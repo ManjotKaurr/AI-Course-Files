{
  "nbformat": 4,
  "nbformat_minor": 0,
  "metadata": {
    "kernelspec": {
      "display_name": "Python 3",
      "language": "python",
      "name": "python3"
    },
    "language_info": {
      "codemirror_mode": {
        "name": "ipython",
        "version": 3
      },
      "file_extension": ".py",
      "mimetype": "text/x-python",
      "name": "python",
      "nbconvert_exporter": "python",
      "pygments_lexer": "ipython3",
      "version": "3.8.9"
    },
    "colab": {
      "provenance": []
    }
  },
  "cells": [
    {
      "cell_type": "markdown",
      "metadata": {
        "id": "cN5EqbKr7XIa"
      },
      "source": [
        "Pixeltests School Data Science\n",
        "\n",
        "*Unit 2, Sprint 2, Module 1*\n",
        "\n",
        "---"
      ]
    },
    {
      "cell_type": "code",
      "metadata": {
        "id": "h-yrdGbE7XId"
      },
      "source": [
        "%%capture\n",
        "import sys\n",
        "\n",
        "# If you're on Colab:\n",
        "if 'google.colab' in sys.modules:\n",
        "    DATA_PATH = 'https://raw.githubusercontent.com/pixeltests/datasets/main/'\n",
        "    !pip install category_encoders\n",
        "    !pip install pandas-profiling\n",
        "\n",
        "# If you're working locally:\n",
        "else:\n",
        "    DATA_PATH = '../data/'"
      ],
      "execution_count": 1,
      "outputs": []
    },
    {
      "cell_type": "markdown",
      "metadata": {
        "id": "v0Hd7j4y7XIe"
      },
      "source": [
        "# Module Project: Decision Trees\n",
        "\n",
        "This week, the module projects will focus on creating and improving a model for the Tanazania Water Pump dataset. Your goal is to create a model to predict whether a water pump is functional, non-functional, or needs repair.\n",
        "\n",
        "Dataset source: [DrivenData.org](https://www.drivendata.org/competitions/7/pump-it-up-data-mining-the-water-table/).\n",
        "\n",
        "## Directions\n",
        "\n",
        "The tasks for this project are as follows:\n",
        "\n",
        "- **Task 1:** Enter the [Kaggle](https://www.kaggle.com/t/6169ee7701164d24943c98eda2de9b5e) competition using exactly this link!\n",
        "- **Task 2:** Use `wrangle` function to import training and test data.\n",
        "- **Task 3:** Split training data into feature matrix `X` and target vector `y`.\n",
        "- **Task 4:** Split feature matrix `X` and target vector `y` into training and test sets.\n",
        "- **Task 5:** Establish the baseline accuracy score for your dataset.\n",
        "- **Task 6:** Build and train `model_dt`.\n",
        "- **Task 7:** Calculate the training and validation accuracy score for your model.\n",
        "- **Task 8:** Adjust model's `max_depth` to reduce overfitting.\n",
        "- **Task 9 `stretch goal`:** Create a horizontal bar chart showing the 10 most important features for your model.\n",
        "\n",
        "You should limit yourself to the following libraries for this project:\n",
        "\n",
        "- `category_encoders`\n",
        "- `matplotlib`\n",
        "- `pandas`\n",
        "- `pandas-profiling`\n",
        "- `sklearn`"
      ]
    },
    {
      "cell_type": "markdown",
      "metadata": {
        "id": "kGcTuKnl7XIf"
      },
      "source": [
        "# Kaggle\n",
        "\n",
        "**Task 1:** Enter the [Kaggle](https://www.kaggle.com/t/6169ee7701164d24943c98eda2de9b5e) competition using exactly this link! **We recommend that you choose a username that's based on your name, since you might include it in your resume in the future.**. Go to the **Rules** page. Accept the rules of the competition. Notice that the **Rules** page also has instructions for the Submission process. The **Data** page has feature definitions.\n",
        "\n",
        "# I. Wrangle Data"
      ]
    },
    {
      "cell_type": "code",
      "metadata": {
        "id": "xzVslPYL7XIg"
      },
      "source": [
        "import pandas as pd\n",
        "def wrangle(fm_path, tv_path=None):\n",
        "    if tv_path:\n",
        "        df = pd.merge(pd.read_csv(fm_path,\n",
        "                                  na_values=[0, -2.000000e-08], compression='zip'),\n",
        "                      pd.read_csv(tv_path, compression='zip'), left_index=True, right_index=True)\n",
        "        # .set_index('id')\n",
        "    else:\n",
        "        df = pd.read_csv(fm_path,\n",
        "                         na_values=[0, -2.000000e-08],\n",
        "                         compression='zip')\n",
        "      # df = pd.read_csv(fm_path,\n",
        "      #                    na_values=[0, -2.000000e-08],\n",
        "      #                    index_col='id', compression='zip')\n",
        "    # Drop constant columns\n",
        "    df.drop(columns=['recorded_by'], inplace=True)\n",
        "\n",
        "    # Drop HCCCs\n",
        "    cutoff = 100\n",
        "    drop_cols = [col for col in df.select_dtypes('object').columns\n",
        "                 if df[col].nunique() > cutoff]\n",
        "    df.drop(columns=drop_cols, inplace=True)\n",
        "\n",
        "    # Drop duplicate columns\n",
        "    dupe_cols = [col for col in df.head(15).T.duplicated().index\n",
        "                 if df.head(15).T.duplicated()[col]]\n",
        "    df.drop(columns=dupe_cols, inplace=True)\n",
        "\n",
        "    return df"
      ],
      "execution_count": 15,
      "outputs": []
    },
    {
      "cell_type": "code",
      "source": [
        "from google.colab import drive\n",
        "drive.mount('/content/drive')"
      ],
      "metadata": {
        "colab": {
          "base_uri": "https://localhost:8080/"
        },
        "id": "SaSsJQgETXC5",
        "outputId": "be39270b-d78c-4cf9-d7c0-ac14363e3f16"
      },
      "execution_count": 3,
      "outputs": [
        {
          "output_type": "stream",
          "name": "stdout",
          "text": [
            "Mounted at /content/drive\n"
          ]
        }
      ]
    },
    {
      "cell_type": "markdown",
      "metadata": {
        "id": "eKWBckTD7XIg"
      },
      "source": [
        "**Task 1:** Using the `wrangle` function above, read the `train_features.csv` and  `train_labels.csv` files into the DataFrame `df`. Next, use the same function to read the test set `test_features.csv` into the DataFrame `X_test`."
      ]
    },
    {
      "cell_type": "code",
      "source": [
        "train_features_path = '/content/drive/MyDrive/AIfiles/train_features.csv.zip'\n",
        "train_labels_path = '/content/drive/MyDrive/AIfiles/train_labels.zip'\n",
        "test_features_path = '/content/drive/MyDrive/AIfiles/test_features.csv.zip'"
      ],
      "metadata": {
        "id": "pETazHTybjBz"
      },
      "execution_count": 11,
      "outputs": []
    },
    {
      "cell_type": "code",
      "metadata": {
        "id": "Gv0HQc3Q8Cqx"
      },
      "source": [
        "# df = wrangle(train_labels_path,train_features_path)\n",
        "train_features = pd.read_csv(train_features_path, compression='zip')"
      ],
      "execution_count": 7,
      "outputs": []
    },
    {
      "cell_type": "code",
      "source": [
        "train_features.head(3)"
      ],
      "metadata": {
        "colab": {
          "base_uri": "https://localhost:8080/",
          "height": 306
        },
        "id": "I6lfoMlQVu_N",
        "outputId": "ad419335-083f-4a46-db4f-ce63d267689e"
      },
      "execution_count": 8,
      "outputs": [
        {
          "output_type": "execute_result",
          "data": {
            "text/plain": [
              "      id  amount_tsh date_recorded  funder  gps_height installer  longitude  \\\n",
              "0   1027        50.0    2013-02-13   Kiuma         690     KIUMA  36.957086   \n",
              "1  16782         0.0    2011-07-26  Hesawa           0       DWE  33.058573   \n",
              "2  13169         0.0    2011-03-14     Ded           0       DWE  35.238216   \n",
              "\n",
              "    latitude             wpt_name  num_private  ... payment_type  \\\n",
              "0 -11.311964  Kwa Mkwanda Mohamed            0  ...   per bucket   \n",
              "1  -2.595762           Kwa Lujina            0  ...      monthly   \n",
              "2  -5.168248            Kilimba A            0  ...   per bucket   \n",
              "\n",
              "  water_quality quality_group  quantity  quantity_group       source  \\\n",
              "0          soft          good    enough          enough  machine dbh   \n",
              "1          soft          good    enough          enough  machine dbh   \n",
              "2          soft          good    enough          enough  machine dbh   \n",
              "\n",
              "  source_type  source_class              waterpoint_type waterpoint_type_group  \n",
              "0    borehole   groundwater  communal standpipe multiple    communal standpipe  \n",
              "1    borehole   groundwater                    hand pump             hand pump  \n",
              "2    borehole   groundwater  communal standpipe multiple    communal standpipe  \n",
              "\n",
              "[3 rows x 40 columns]"
            ],
            "text/html": [
              "\n",
              "  <div id=\"df-f0837242-d2b7-487a-9590-9e2e6c4411a3\">\n",
              "    <div class=\"colab-df-container\">\n",
              "      <div>\n",
              "<style scoped>\n",
              "    .dataframe tbody tr th:only-of-type {\n",
              "        vertical-align: middle;\n",
              "    }\n",
              "\n",
              "    .dataframe tbody tr th {\n",
              "        vertical-align: top;\n",
              "    }\n",
              "\n",
              "    .dataframe thead th {\n",
              "        text-align: right;\n",
              "    }\n",
              "</style>\n",
              "<table border=\"1\" class=\"dataframe\">\n",
              "  <thead>\n",
              "    <tr style=\"text-align: right;\">\n",
              "      <th></th>\n",
              "      <th>id</th>\n",
              "      <th>amount_tsh</th>\n",
              "      <th>date_recorded</th>\n",
              "      <th>funder</th>\n",
              "      <th>gps_height</th>\n",
              "      <th>installer</th>\n",
              "      <th>longitude</th>\n",
              "      <th>latitude</th>\n",
              "      <th>wpt_name</th>\n",
              "      <th>num_private</th>\n",
              "      <th>...</th>\n",
              "      <th>payment_type</th>\n",
              "      <th>water_quality</th>\n",
              "      <th>quality_group</th>\n",
              "      <th>quantity</th>\n",
              "      <th>quantity_group</th>\n",
              "      <th>source</th>\n",
              "      <th>source_type</th>\n",
              "      <th>source_class</th>\n",
              "      <th>waterpoint_type</th>\n",
              "      <th>waterpoint_type_group</th>\n",
              "    </tr>\n",
              "  </thead>\n",
              "  <tbody>\n",
              "    <tr>\n",
              "      <th>0</th>\n",
              "      <td>1027</td>\n",
              "      <td>50.0</td>\n",
              "      <td>2013-02-13</td>\n",
              "      <td>Kiuma</td>\n",
              "      <td>690</td>\n",
              "      <td>KIUMA</td>\n",
              "      <td>36.957086</td>\n",
              "      <td>-11.311964</td>\n",
              "      <td>Kwa Mkwanda Mohamed</td>\n",
              "      <td>0</td>\n",
              "      <td>...</td>\n",
              "      <td>per bucket</td>\n",
              "      <td>soft</td>\n",
              "      <td>good</td>\n",
              "      <td>enough</td>\n",
              "      <td>enough</td>\n",
              "      <td>machine dbh</td>\n",
              "      <td>borehole</td>\n",
              "      <td>groundwater</td>\n",
              "      <td>communal standpipe multiple</td>\n",
              "      <td>communal standpipe</td>\n",
              "    </tr>\n",
              "    <tr>\n",
              "      <th>1</th>\n",
              "      <td>16782</td>\n",
              "      <td>0.0</td>\n",
              "      <td>2011-07-26</td>\n",
              "      <td>Hesawa</td>\n",
              "      <td>0</td>\n",
              "      <td>DWE</td>\n",
              "      <td>33.058573</td>\n",
              "      <td>-2.595762</td>\n",
              "      <td>Kwa Lujina</td>\n",
              "      <td>0</td>\n",
              "      <td>...</td>\n",
              "      <td>monthly</td>\n",
              "      <td>soft</td>\n",
              "      <td>good</td>\n",
              "      <td>enough</td>\n",
              "      <td>enough</td>\n",
              "      <td>machine dbh</td>\n",
              "      <td>borehole</td>\n",
              "      <td>groundwater</td>\n",
              "      <td>hand pump</td>\n",
              "      <td>hand pump</td>\n",
              "    </tr>\n",
              "    <tr>\n",
              "      <th>2</th>\n",
              "      <td>13169</td>\n",
              "      <td>0.0</td>\n",
              "      <td>2011-03-14</td>\n",
              "      <td>Ded</td>\n",
              "      <td>0</td>\n",
              "      <td>DWE</td>\n",
              "      <td>35.238216</td>\n",
              "      <td>-5.168248</td>\n",
              "      <td>Kilimba A</td>\n",
              "      <td>0</td>\n",
              "      <td>...</td>\n",
              "      <td>per bucket</td>\n",
              "      <td>soft</td>\n",
              "      <td>good</td>\n",
              "      <td>enough</td>\n",
              "      <td>enough</td>\n",
              "      <td>machine dbh</td>\n",
              "      <td>borehole</td>\n",
              "      <td>groundwater</td>\n",
              "      <td>communal standpipe multiple</td>\n",
              "      <td>communal standpipe</td>\n",
              "    </tr>\n",
              "  </tbody>\n",
              "</table>\n",
              "<p>3 rows × 40 columns</p>\n",
              "</div>\n",
              "      <button class=\"colab-df-convert\" onclick=\"convertToInteractive('df-f0837242-d2b7-487a-9590-9e2e6c4411a3')\"\n",
              "              title=\"Convert this dataframe to an interactive table.\"\n",
              "              style=\"display:none;\">\n",
              "        \n",
              "  <svg xmlns=\"http://www.w3.org/2000/svg\" height=\"24px\"viewBox=\"0 0 24 24\"\n",
              "       width=\"24px\">\n",
              "    <path d=\"M0 0h24v24H0V0z\" fill=\"none\"/>\n",
              "    <path d=\"M18.56 5.44l.94 2.06.94-2.06 2.06-.94-2.06-.94-.94-2.06-.94 2.06-2.06.94zm-11 1L8.5 8.5l.94-2.06 2.06-.94-2.06-.94L8.5 2.5l-.94 2.06-2.06.94zm10 10l.94 2.06.94-2.06 2.06-.94-2.06-.94-.94-2.06-.94 2.06-2.06.94z\"/><path d=\"M17.41 7.96l-1.37-1.37c-.4-.4-.92-.59-1.43-.59-.52 0-1.04.2-1.43.59L10.3 9.45l-7.72 7.72c-.78.78-.78 2.05 0 2.83L4 21.41c.39.39.9.59 1.41.59.51 0 1.02-.2 1.41-.59l7.78-7.78 2.81-2.81c.8-.78.8-2.07 0-2.86zM5.41 20L4 18.59l7.72-7.72 1.47 1.35L5.41 20z\"/>\n",
              "  </svg>\n",
              "      </button>\n",
              "      \n",
              "  <style>\n",
              "    .colab-df-container {\n",
              "      display:flex;\n",
              "      flex-wrap:wrap;\n",
              "      gap: 12px;\n",
              "    }\n",
              "\n",
              "    .colab-df-convert {\n",
              "      background-color: #E8F0FE;\n",
              "      border: none;\n",
              "      border-radius: 50%;\n",
              "      cursor: pointer;\n",
              "      display: none;\n",
              "      fill: #1967D2;\n",
              "      height: 32px;\n",
              "      padding: 0 0 0 0;\n",
              "      width: 32px;\n",
              "    }\n",
              "\n",
              "    .colab-df-convert:hover {\n",
              "      background-color: #E2EBFA;\n",
              "      box-shadow: 0px 1px 2px rgba(60, 64, 67, 0.3), 0px 1px 3px 1px rgba(60, 64, 67, 0.15);\n",
              "      fill: #174EA6;\n",
              "    }\n",
              "\n",
              "    [theme=dark] .colab-df-convert {\n",
              "      background-color: #3B4455;\n",
              "      fill: #D2E3FC;\n",
              "    }\n",
              "\n",
              "    [theme=dark] .colab-df-convert:hover {\n",
              "      background-color: #434B5C;\n",
              "      box-shadow: 0px 1px 3px 1px rgba(0, 0, 0, 0.15);\n",
              "      filter: drop-shadow(0px 1px 2px rgba(0, 0, 0, 0.3));\n",
              "      fill: #FFFFFF;\n",
              "    }\n",
              "  </style>\n",
              "\n",
              "      <script>\n",
              "        const buttonEl =\n",
              "          document.querySelector('#df-f0837242-d2b7-487a-9590-9e2e6c4411a3 button.colab-df-convert');\n",
              "        buttonEl.style.display =\n",
              "          google.colab.kernel.accessAllowed ? 'block' : 'none';\n",
              "\n",
              "        async function convertToInteractive(key) {\n",
              "          const element = document.querySelector('#df-f0837242-d2b7-487a-9590-9e2e6c4411a3');\n",
              "          const dataTable =\n",
              "            await google.colab.kernel.invokeFunction('convertToInteractive',\n",
              "                                                     [key], {});\n",
              "          if (!dataTable) return;\n",
              "\n",
              "          const docLinkHtml = 'Like what you see? Visit the ' +\n",
              "            '<a target=\"_blank\" href=https://colab.research.google.com/notebooks/data_table.ipynb>data table notebook</a>'\n",
              "            + ' to learn more about interactive tables.';\n",
              "          element.innerHTML = '';\n",
              "          dataTable['output_type'] = 'display_data';\n",
              "          await google.colab.output.renderOutput(dataTable, element);\n",
              "          const docLink = document.createElement('div');\n",
              "          docLink.innerHTML = docLinkHtml;\n",
              "          element.appendChild(docLink);\n",
              "        }\n",
              "      </script>\n",
              "    </div>\n",
              "  </div>\n",
              "  "
            ]
          },
          "metadata": {},
          "execution_count": 8
        }
      ]
    },
    {
      "cell_type": "code",
      "source": [
        "test_features = pd.read_csv(test_features_path, compression='zip')\n",
        "test_features.head(3)"
      ],
      "metadata": {
        "colab": {
          "base_uri": "https://localhost:8080/",
          "height": 306
        },
        "id": "Lbbjrd20K16v",
        "outputId": "e51e7315-4b15-40ca-fb38-2eb7da2e647e"
      },
      "execution_count": 12,
      "outputs": [
        {
          "output_type": "execute_result",
          "data": {
            "text/plain": [
              "      id  amount_tsh date_recorded                  funder  gps_height  \\\n",
              "0  53352         0.0    2012-10-02                    Dwsp           0   \n",
              "1  69486         0.0    2011-04-04  Government Of Tanzania           0   \n",
              "2  10214         0.0    2011-04-13                     NaN           0   \n",
              "\n",
              "  installer  longitude  latitude               wpt_name  num_private  ...  \\\n",
              "0      DWSP  32.899425 -3.316937           Kwa Mwapinda            0  ...   \n",
              "1       DWE  33.454783 -8.755486               Zahanati            0  ...   \n",
              "2       NaN  33.831630 -9.238255  Lupaso Primary School            0  ...   \n",
              "\n",
              "  payment_type water_quality quality_group  quantity  quantity_group  \\\n",
              "0    never pay          soft          good    enough          enough   \n",
              "1      monthly          soft          good    enough          enough   \n",
              "2      unknown          soft          good    enough          enough   \n",
              "\n",
              "         source   source_type  source_class     waterpoint_type  \\\n",
              "0  shallow well  shallow well   groundwater           hand pump   \n",
              "1         river    river/lake       surface  communal standpipe   \n",
              "2        spring        spring   groundwater  communal standpipe   \n",
              "\n",
              "  waterpoint_type_group  \n",
              "0             hand pump  \n",
              "1    communal standpipe  \n",
              "2    communal standpipe  \n",
              "\n",
              "[3 rows x 40 columns]"
            ],
            "text/html": [
              "\n",
              "  <div id=\"df-a3499ca2-9b60-4e90-affd-f778fb8dd8b9\">\n",
              "    <div class=\"colab-df-container\">\n",
              "      <div>\n",
              "<style scoped>\n",
              "    .dataframe tbody tr th:only-of-type {\n",
              "        vertical-align: middle;\n",
              "    }\n",
              "\n",
              "    .dataframe tbody tr th {\n",
              "        vertical-align: top;\n",
              "    }\n",
              "\n",
              "    .dataframe thead th {\n",
              "        text-align: right;\n",
              "    }\n",
              "</style>\n",
              "<table border=\"1\" class=\"dataframe\">\n",
              "  <thead>\n",
              "    <tr style=\"text-align: right;\">\n",
              "      <th></th>\n",
              "      <th>id</th>\n",
              "      <th>amount_tsh</th>\n",
              "      <th>date_recorded</th>\n",
              "      <th>funder</th>\n",
              "      <th>gps_height</th>\n",
              "      <th>installer</th>\n",
              "      <th>longitude</th>\n",
              "      <th>latitude</th>\n",
              "      <th>wpt_name</th>\n",
              "      <th>num_private</th>\n",
              "      <th>...</th>\n",
              "      <th>payment_type</th>\n",
              "      <th>water_quality</th>\n",
              "      <th>quality_group</th>\n",
              "      <th>quantity</th>\n",
              "      <th>quantity_group</th>\n",
              "      <th>source</th>\n",
              "      <th>source_type</th>\n",
              "      <th>source_class</th>\n",
              "      <th>waterpoint_type</th>\n",
              "      <th>waterpoint_type_group</th>\n",
              "    </tr>\n",
              "  </thead>\n",
              "  <tbody>\n",
              "    <tr>\n",
              "      <th>0</th>\n",
              "      <td>53352</td>\n",
              "      <td>0.0</td>\n",
              "      <td>2012-10-02</td>\n",
              "      <td>Dwsp</td>\n",
              "      <td>0</td>\n",
              "      <td>DWSP</td>\n",
              "      <td>32.899425</td>\n",
              "      <td>-3.316937</td>\n",
              "      <td>Kwa Mwapinda</td>\n",
              "      <td>0</td>\n",
              "      <td>...</td>\n",
              "      <td>never pay</td>\n",
              "      <td>soft</td>\n",
              "      <td>good</td>\n",
              "      <td>enough</td>\n",
              "      <td>enough</td>\n",
              "      <td>shallow well</td>\n",
              "      <td>shallow well</td>\n",
              "      <td>groundwater</td>\n",
              "      <td>hand pump</td>\n",
              "      <td>hand pump</td>\n",
              "    </tr>\n",
              "    <tr>\n",
              "      <th>1</th>\n",
              "      <td>69486</td>\n",
              "      <td>0.0</td>\n",
              "      <td>2011-04-04</td>\n",
              "      <td>Government Of Tanzania</td>\n",
              "      <td>0</td>\n",
              "      <td>DWE</td>\n",
              "      <td>33.454783</td>\n",
              "      <td>-8.755486</td>\n",
              "      <td>Zahanati</td>\n",
              "      <td>0</td>\n",
              "      <td>...</td>\n",
              "      <td>monthly</td>\n",
              "      <td>soft</td>\n",
              "      <td>good</td>\n",
              "      <td>enough</td>\n",
              "      <td>enough</td>\n",
              "      <td>river</td>\n",
              "      <td>river/lake</td>\n",
              "      <td>surface</td>\n",
              "      <td>communal standpipe</td>\n",
              "      <td>communal standpipe</td>\n",
              "    </tr>\n",
              "    <tr>\n",
              "      <th>2</th>\n",
              "      <td>10214</td>\n",
              "      <td>0.0</td>\n",
              "      <td>2011-04-13</td>\n",
              "      <td>NaN</td>\n",
              "      <td>0</td>\n",
              "      <td>NaN</td>\n",
              "      <td>33.831630</td>\n",
              "      <td>-9.238255</td>\n",
              "      <td>Lupaso Primary School</td>\n",
              "      <td>0</td>\n",
              "      <td>...</td>\n",
              "      <td>unknown</td>\n",
              "      <td>soft</td>\n",
              "      <td>good</td>\n",
              "      <td>enough</td>\n",
              "      <td>enough</td>\n",
              "      <td>spring</td>\n",
              "      <td>spring</td>\n",
              "      <td>groundwater</td>\n",
              "      <td>communal standpipe</td>\n",
              "      <td>communal standpipe</td>\n",
              "    </tr>\n",
              "  </tbody>\n",
              "</table>\n",
              "<p>3 rows × 40 columns</p>\n",
              "</div>\n",
              "      <button class=\"colab-df-convert\" onclick=\"convertToInteractive('df-a3499ca2-9b60-4e90-affd-f778fb8dd8b9')\"\n",
              "              title=\"Convert this dataframe to an interactive table.\"\n",
              "              style=\"display:none;\">\n",
              "        \n",
              "  <svg xmlns=\"http://www.w3.org/2000/svg\" height=\"24px\"viewBox=\"0 0 24 24\"\n",
              "       width=\"24px\">\n",
              "    <path d=\"M0 0h24v24H0V0z\" fill=\"none\"/>\n",
              "    <path d=\"M18.56 5.44l.94 2.06.94-2.06 2.06-.94-2.06-.94-.94-2.06-.94 2.06-2.06.94zm-11 1L8.5 8.5l.94-2.06 2.06-.94-2.06-.94L8.5 2.5l-.94 2.06-2.06.94zm10 10l.94 2.06.94-2.06 2.06-.94-2.06-.94-.94-2.06-.94 2.06-2.06.94z\"/><path d=\"M17.41 7.96l-1.37-1.37c-.4-.4-.92-.59-1.43-.59-.52 0-1.04.2-1.43.59L10.3 9.45l-7.72 7.72c-.78.78-.78 2.05 0 2.83L4 21.41c.39.39.9.59 1.41.59.51 0 1.02-.2 1.41-.59l7.78-7.78 2.81-2.81c.8-.78.8-2.07 0-2.86zM5.41 20L4 18.59l7.72-7.72 1.47 1.35L5.41 20z\"/>\n",
              "  </svg>\n",
              "      </button>\n",
              "      \n",
              "  <style>\n",
              "    .colab-df-container {\n",
              "      display:flex;\n",
              "      flex-wrap:wrap;\n",
              "      gap: 12px;\n",
              "    }\n",
              "\n",
              "    .colab-df-convert {\n",
              "      background-color: #E8F0FE;\n",
              "      border: none;\n",
              "      border-radius: 50%;\n",
              "      cursor: pointer;\n",
              "      display: none;\n",
              "      fill: #1967D2;\n",
              "      height: 32px;\n",
              "      padding: 0 0 0 0;\n",
              "      width: 32px;\n",
              "    }\n",
              "\n",
              "    .colab-df-convert:hover {\n",
              "      background-color: #E2EBFA;\n",
              "      box-shadow: 0px 1px 2px rgba(60, 64, 67, 0.3), 0px 1px 3px 1px rgba(60, 64, 67, 0.15);\n",
              "      fill: #174EA6;\n",
              "    }\n",
              "\n",
              "    [theme=dark] .colab-df-convert {\n",
              "      background-color: #3B4455;\n",
              "      fill: #D2E3FC;\n",
              "    }\n",
              "\n",
              "    [theme=dark] .colab-df-convert:hover {\n",
              "      background-color: #434B5C;\n",
              "      box-shadow: 0px 1px 3px 1px rgba(0, 0, 0, 0.15);\n",
              "      filter: drop-shadow(0px 1px 2px rgba(0, 0, 0, 0.3));\n",
              "      fill: #FFFFFF;\n",
              "    }\n",
              "  </style>\n",
              "\n",
              "      <script>\n",
              "        const buttonEl =\n",
              "          document.querySelector('#df-a3499ca2-9b60-4e90-affd-f778fb8dd8b9 button.colab-df-convert');\n",
              "        buttonEl.style.display =\n",
              "          google.colab.kernel.accessAllowed ? 'block' : 'none';\n",
              "\n",
              "        async function convertToInteractive(key) {\n",
              "          const element = document.querySelector('#df-a3499ca2-9b60-4e90-affd-f778fb8dd8b9');\n",
              "          const dataTable =\n",
              "            await google.colab.kernel.invokeFunction('convertToInteractive',\n",
              "                                                     [key], {});\n",
              "          if (!dataTable) return;\n",
              "\n",
              "          const docLinkHtml = 'Like what you see? Visit the ' +\n",
              "            '<a target=\"_blank\" href=https://colab.research.google.com/notebooks/data_table.ipynb>data table notebook</a>'\n",
              "            + ' to learn more about interactive tables.';\n",
              "          element.innerHTML = '';\n",
              "          dataTable['output_type'] = 'display_data';\n",
              "          await google.colab.output.renderOutput(dataTable, element);\n",
              "          const docLink = document.createElement('div');\n",
              "          docLink.innerHTML = docLinkHtml;\n",
              "          element.appendChild(docLink);\n",
              "        }\n",
              "      </script>\n",
              "    </div>\n",
              "  </div>\n",
              "  "
            ]
          },
          "metadata": {},
          "execution_count": 12
        }
      ]
    },
    {
      "cell_type": "code",
      "source": [
        "train_labels = pd.read_csv(train_labels_path, compression='zip')\n",
        "train_labels.head(3)"
      ],
      "metadata": {
        "colab": {
          "base_uri": "https://localhost:8080/",
          "height": 143
        },
        "id": "hPcd1O4LhGsh",
        "outputId": "95a2df13-b7d9-4dab-e1c6-fe9b3806a44b"
      },
      "execution_count": 6,
      "outputs": [
        {
          "output_type": "execute_result",
          "data": {
            "text/plain": [
              "              status_group\n",
              "0  functional needs repair\n",
              "1               functional\n",
              "2               functional"
            ],
            "text/html": [
              "\n",
              "  <div id=\"df-6efbfdc5-b37f-400a-9943-bd4caf458501\">\n",
              "    <div class=\"colab-df-container\">\n",
              "      <div>\n",
              "<style scoped>\n",
              "    .dataframe tbody tr th:only-of-type {\n",
              "        vertical-align: middle;\n",
              "    }\n",
              "\n",
              "    .dataframe tbody tr th {\n",
              "        vertical-align: top;\n",
              "    }\n",
              "\n",
              "    .dataframe thead th {\n",
              "        text-align: right;\n",
              "    }\n",
              "</style>\n",
              "<table border=\"1\" class=\"dataframe\">\n",
              "  <thead>\n",
              "    <tr style=\"text-align: right;\">\n",
              "      <th></th>\n",
              "      <th>status_group</th>\n",
              "    </tr>\n",
              "  </thead>\n",
              "  <tbody>\n",
              "    <tr>\n",
              "      <th>0</th>\n",
              "      <td>functional needs repair</td>\n",
              "    </tr>\n",
              "    <tr>\n",
              "      <th>1</th>\n",
              "      <td>functional</td>\n",
              "    </tr>\n",
              "    <tr>\n",
              "      <th>2</th>\n",
              "      <td>functional</td>\n",
              "    </tr>\n",
              "  </tbody>\n",
              "</table>\n",
              "</div>\n",
              "      <button class=\"colab-df-convert\" onclick=\"convertToInteractive('df-6efbfdc5-b37f-400a-9943-bd4caf458501')\"\n",
              "              title=\"Convert this dataframe to an interactive table.\"\n",
              "              style=\"display:none;\">\n",
              "        \n",
              "  <svg xmlns=\"http://www.w3.org/2000/svg\" height=\"24px\"viewBox=\"0 0 24 24\"\n",
              "       width=\"24px\">\n",
              "    <path d=\"M0 0h24v24H0V0z\" fill=\"none\"/>\n",
              "    <path d=\"M18.56 5.44l.94 2.06.94-2.06 2.06-.94-2.06-.94-.94-2.06-.94 2.06-2.06.94zm-11 1L8.5 8.5l.94-2.06 2.06-.94-2.06-.94L8.5 2.5l-.94 2.06-2.06.94zm10 10l.94 2.06.94-2.06 2.06-.94-2.06-.94-.94-2.06-.94 2.06-2.06.94z\"/><path d=\"M17.41 7.96l-1.37-1.37c-.4-.4-.92-.59-1.43-.59-.52 0-1.04.2-1.43.59L10.3 9.45l-7.72 7.72c-.78.78-.78 2.05 0 2.83L4 21.41c.39.39.9.59 1.41.59.51 0 1.02-.2 1.41-.59l7.78-7.78 2.81-2.81c.8-.78.8-2.07 0-2.86zM5.41 20L4 18.59l7.72-7.72 1.47 1.35L5.41 20z\"/>\n",
              "  </svg>\n",
              "      </button>\n",
              "      \n",
              "  <style>\n",
              "    .colab-df-container {\n",
              "      display:flex;\n",
              "      flex-wrap:wrap;\n",
              "      gap: 12px;\n",
              "    }\n",
              "\n",
              "    .colab-df-convert {\n",
              "      background-color: #E8F0FE;\n",
              "      border: none;\n",
              "      border-radius: 50%;\n",
              "      cursor: pointer;\n",
              "      display: none;\n",
              "      fill: #1967D2;\n",
              "      height: 32px;\n",
              "      padding: 0 0 0 0;\n",
              "      width: 32px;\n",
              "    }\n",
              "\n",
              "    .colab-df-convert:hover {\n",
              "      background-color: #E2EBFA;\n",
              "      box-shadow: 0px 1px 2px rgba(60, 64, 67, 0.3), 0px 1px 3px 1px rgba(60, 64, 67, 0.15);\n",
              "      fill: #174EA6;\n",
              "    }\n",
              "\n",
              "    [theme=dark] .colab-df-convert {\n",
              "      background-color: #3B4455;\n",
              "      fill: #D2E3FC;\n",
              "    }\n",
              "\n",
              "    [theme=dark] .colab-df-convert:hover {\n",
              "      background-color: #434B5C;\n",
              "      box-shadow: 0px 1px 3px 1px rgba(0, 0, 0, 0.15);\n",
              "      filter: drop-shadow(0px 1px 2px rgba(0, 0, 0, 0.3));\n",
              "      fill: #FFFFFF;\n",
              "    }\n",
              "  </style>\n",
              "\n",
              "      <script>\n",
              "        const buttonEl =\n",
              "          document.querySelector('#df-6efbfdc5-b37f-400a-9943-bd4caf458501 button.colab-df-convert');\n",
              "        buttonEl.style.display =\n",
              "          google.colab.kernel.accessAllowed ? 'block' : 'none';\n",
              "\n",
              "        async function convertToInteractive(key) {\n",
              "          const element = document.querySelector('#df-6efbfdc5-b37f-400a-9943-bd4caf458501');\n",
              "          const dataTable =\n",
              "            await google.colab.kernel.invokeFunction('convertToInteractive',\n",
              "                                                     [key], {});\n",
              "          if (!dataTable) return;\n",
              "\n",
              "          const docLinkHtml = 'Like what you see? Visit the ' +\n",
              "            '<a target=\"_blank\" href=https://colab.research.google.com/notebooks/data_table.ipynb>data table notebook</a>'\n",
              "            + ' to learn more about interactive tables.';\n",
              "          element.innerHTML = '';\n",
              "          dataTable['output_type'] = 'display_data';\n",
              "          await google.colab.output.renderOutput(dataTable, element);\n",
              "          const docLink = document.createElement('div');\n",
              "          docLink.innerHTML = docLinkHtml;\n",
              "          element.appendChild(docLink);\n",
              "        }\n",
              "      </script>\n",
              "    </div>\n",
              "  </div>\n",
              "  "
            ]
          },
          "metadata": {},
          "execution_count": 6
        }
      ]
    },
    {
      "cell_type": "code",
      "source": [
        "df = wrangle(train_features_path,train_labels_path)\n",
        "df.head(3)"
      ],
      "metadata": {
        "colab": {
          "base_uri": "https://localhost:8080/",
          "height": 323
        },
        "id": "UOTy7irmipjo",
        "outputId": "03e2b7d5-f3a7-472b-a026-b2b7e28de1fc"
      },
      "execution_count": 16,
      "outputs": [
        {
          "output_type": "execute_result",
          "data": {
            "text/plain": [
              "        id  amount_tsh  gps_height  longitude   latitude  num_private  \\\n",
              "0   1027.0        50.0       690.0  36.957086 -11.311964          NaN   \n",
              "1  16782.0         NaN         NaN  33.058573  -2.595762          NaN   \n",
              "2  13169.0         NaN         NaN  35.238216  -5.168248          NaN   \n",
              "\n",
              "                     basin  region  region_code  district_code  ...  \\\n",
              "0  Ruvuma / Southern Coast  Ruvuma           10            1.0  ...   \n",
              "1            Lake Victoria  Mwanza           19            2.0  ...   \n",
              "2                 Internal  Dodoma            1            1.0  ...   \n",
              "\n",
              "   payment_type water_quality quality_group quantity       source source_type  \\\n",
              "0    per bucket          soft          good   enough  machine dbh    borehole   \n",
              "1       monthly          soft          good   enough  machine dbh    borehole   \n",
              "2    per bucket          soft          good   enough  machine dbh    borehole   \n",
              "\n",
              "  source_class              waterpoint_type waterpoint_type_group  \\\n",
              "0  groundwater  communal standpipe multiple    communal standpipe   \n",
              "1  groundwater                    hand pump             hand pump   \n",
              "2  groundwater  communal standpipe multiple    communal standpipe   \n",
              "\n",
              "              status_group  \n",
              "0  functional needs repair  \n",
              "1               functional  \n",
              "2               functional  \n",
              "\n",
              "[3 rows x 31 columns]"
            ],
            "text/html": [
              "\n",
              "  <div id=\"df-ac859a69-3c36-40f1-8a86-2dc628b68455\">\n",
              "    <div class=\"colab-df-container\">\n",
              "      <div>\n",
              "<style scoped>\n",
              "    .dataframe tbody tr th:only-of-type {\n",
              "        vertical-align: middle;\n",
              "    }\n",
              "\n",
              "    .dataframe tbody tr th {\n",
              "        vertical-align: top;\n",
              "    }\n",
              "\n",
              "    .dataframe thead th {\n",
              "        text-align: right;\n",
              "    }\n",
              "</style>\n",
              "<table border=\"1\" class=\"dataframe\">\n",
              "  <thead>\n",
              "    <tr style=\"text-align: right;\">\n",
              "      <th></th>\n",
              "      <th>id</th>\n",
              "      <th>amount_tsh</th>\n",
              "      <th>gps_height</th>\n",
              "      <th>longitude</th>\n",
              "      <th>latitude</th>\n",
              "      <th>num_private</th>\n",
              "      <th>basin</th>\n",
              "      <th>region</th>\n",
              "      <th>region_code</th>\n",
              "      <th>district_code</th>\n",
              "      <th>...</th>\n",
              "      <th>payment_type</th>\n",
              "      <th>water_quality</th>\n",
              "      <th>quality_group</th>\n",
              "      <th>quantity</th>\n",
              "      <th>source</th>\n",
              "      <th>source_type</th>\n",
              "      <th>source_class</th>\n",
              "      <th>waterpoint_type</th>\n",
              "      <th>waterpoint_type_group</th>\n",
              "      <th>status_group</th>\n",
              "    </tr>\n",
              "  </thead>\n",
              "  <tbody>\n",
              "    <tr>\n",
              "      <th>0</th>\n",
              "      <td>1027.0</td>\n",
              "      <td>50.0</td>\n",
              "      <td>690.0</td>\n",
              "      <td>36.957086</td>\n",
              "      <td>-11.311964</td>\n",
              "      <td>NaN</td>\n",
              "      <td>Ruvuma / Southern Coast</td>\n",
              "      <td>Ruvuma</td>\n",
              "      <td>10</td>\n",
              "      <td>1.0</td>\n",
              "      <td>...</td>\n",
              "      <td>per bucket</td>\n",
              "      <td>soft</td>\n",
              "      <td>good</td>\n",
              "      <td>enough</td>\n",
              "      <td>machine dbh</td>\n",
              "      <td>borehole</td>\n",
              "      <td>groundwater</td>\n",
              "      <td>communal standpipe multiple</td>\n",
              "      <td>communal standpipe</td>\n",
              "      <td>functional needs repair</td>\n",
              "    </tr>\n",
              "    <tr>\n",
              "      <th>1</th>\n",
              "      <td>16782.0</td>\n",
              "      <td>NaN</td>\n",
              "      <td>NaN</td>\n",
              "      <td>33.058573</td>\n",
              "      <td>-2.595762</td>\n",
              "      <td>NaN</td>\n",
              "      <td>Lake Victoria</td>\n",
              "      <td>Mwanza</td>\n",
              "      <td>19</td>\n",
              "      <td>2.0</td>\n",
              "      <td>...</td>\n",
              "      <td>monthly</td>\n",
              "      <td>soft</td>\n",
              "      <td>good</td>\n",
              "      <td>enough</td>\n",
              "      <td>machine dbh</td>\n",
              "      <td>borehole</td>\n",
              "      <td>groundwater</td>\n",
              "      <td>hand pump</td>\n",
              "      <td>hand pump</td>\n",
              "      <td>functional</td>\n",
              "    </tr>\n",
              "    <tr>\n",
              "      <th>2</th>\n",
              "      <td>13169.0</td>\n",
              "      <td>NaN</td>\n",
              "      <td>NaN</td>\n",
              "      <td>35.238216</td>\n",
              "      <td>-5.168248</td>\n",
              "      <td>NaN</td>\n",
              "      <td>Internal</td>\n",
              "      <td>Dodoma</td>\n",
              "      <td>1</td>\n",
              "      <td>1.0</td>\n",
              "      <td>...</td>\n",
              "      <td>per bucket</td>\n",
              "      <td>soft</td>\n",
              "      <td>good</td>\n",
              "      <td>enough</td>\n",
              "      <td>machine dbh</td>\n",
              "      <td>borehole</td>\n",
              "      <td>groundwater</td>\n",
              "      <td>communal standpipe multiple</td>\n",
              "      <td>communal standpipe</td>\n",
              "      <td>functional</td>\n",
              "    </tr>\n",
              "  </tbody>\n",
              "</table>\n",
              "<p>3 rows × 31 columns</p>\n",
              "</div>\n",
              "      <button class=\"colab-df-convert\" onclick=\"convertToInteractive('df-ac859a69-3c36-40f1-8a86-2dc628b68455')\"\n",
              "              title=\"Convert this dataframe to an interactive table.\"\n",
              "              style=\"display:none;\">\n",
              "        \n",
              "  <svg xmlns=\"http://www.w3.org/2000/svg\" height=\"24px\"viewBox=\"0 0 24 24\"\n",
              "       width=\"24px\">\n",
              "    <path d=\"M0 0h24v24H0V0z\" fill=\"none\"/>\n",
              "    <path d=\"M18.56 5.44l.94 2.06.94-2.06 2.06-.94-2.06-.94-.94-2.06-.94 2.06-2.06.94zm-11 1L8.5 8.5l.94-2.06 2.06-.94-2.06-.94L8.5 2.5l-.94 2.06-2.06.94zm10 10l.94 2.06.94-2.06 2.06-.94-2.06-.94-.94-2.06-.94 2.06-2.06.94z\"/><path d=\"M17.41 7.96l-1.37-1.37c-.4-.4-.92-.59-1.43-.59-.52 0-1.04.2-1.43.59L10.3 9.45l-7.72 7.72c-.78.78-.78 2.05 0 2.83L4 21.41c.39.39.9.59 1.41.59.51 0 1.02-.2 1.41-.59l7.78-7.78 2.81-2.81c.8-.78.8-2.07 0-2.86zM5.41 20L4 18.59l7.72-7.72 1.47 1.35L5.41 20z\"/>\n",
              "  </svg>\n",
              "      </button>\n",
              "      \n",
              "  <style>\n",
              "    .colab-df-container {\n",
              "      display:flex;\n",
              "      flex-wrap:wrap;\n",
              "      gap: 12px;\n",
              "    }\n",
              "\n",
              "    .colab-df-convert {\n",
              "      background-color: #E8F0FE;\n",
              "      border: none;\n",
              "      border-radius: 50%;\n",
              "      cursor: pointer;\n",
              "      display: none;\n",
              "      fill: #1967D2;\n",
              "      height: 32px;\n",
              "      padding: 0 0 0 0;\n",
              "      width: 32px;\n",
              "    }\n",
              "\n",
              "    .colab-df-convert:hover {\n",
              "      background-color: #E2EBFA;\n",
              "      box-shadow: 0px 1px 2px rgba(60, 64, 67, 0.3), 0px 1px 3px 1px rgba(60, 64, 67, 0.15);\n",
              "      fill: #174EA6;\n",
              "    }\n",
              "\n",
              "    [theme=dark] .colab-df-convert {\n",
              "      background-color: #3B4455;\n",
              "      fill: #D2E3FC;\n",
              "    }\n",
              "\n",
              "    [theme=dark] .colab-df-convert:hover {\n",
              "      background-color: #434B5C;\n",
              "      box-shadow: 0px 1px 3px 1px rgba(0, 0, 0, 0.15);\n",
              "      filter: drop-shadow(0px 1px 2px rgba(0, 0, 0, 0.3));\n",
              "      fill: #FFFFFF;\n",
              "    }\n",
              "  </style>\n",
              "\n",
              "      <script>\n",
              "        const buttonEl =\n",
              "          document.querySelector('#df-ac859a69-3c36-40f1-8a86-2dc628b68455 button.colab-df-convert');\n",
              "        buttonEl.style.display =\n",
              "          google.colab.kernel.accessAllowed ? 'block' : 'none';\n",
              "\n",
              "        async function convertToInteractive(key) {\n",
              "          const element = document.querySelector('#df-ac859a69-3c36-40f1-8a86-2dc628b68455');\n",
              "          const dataTable =\n",
              "            await google.colab.kernel.invokeFunction('convertToInteractive',\n",
              "                                                     [key], {});\n",
              "          if (!dataTable) return;\n",
              "\n",
              "          const docLinkHtml = 'Like what you see? Visit the ' +\n",
              "            '<a target=\"_blank\" href=https://colab.research.google.com/notebooks/data_table.ipynb>data table notebook</a>'\n",
              "            + ' to learn more about interactive tables.';\n",
              "          element.innerHTML = '';\n",
              "          dataTable['output_type'] = 'display_data';\n",
              "          await google.colab.output.renderOutput(dataTable, element);\n",
              "          const docLink = document.createElement('div');\n",
              "          docLink.innerHTML = docLinkHtml;\n",
              "          element.appendChild(docLink);\n",
              "        }\n",
              "      </script>\n",
              "    </div>\n",
              "  </div>\n",
              "  "
            ]
          },
          "metadata": {},
          "execution_count": 16
        }
      ]
    },
    {
      "cell_type": "code",
      "metadata": {
        "id": "Su70Ql7c7XIg",
        "colab": {
          "base_uri": "https://localhost:8080/",
          "height": 288
        },
        "outputId": "90f91bee-3819-4793-902d-3b9925a33bda"
      },
      "source": [
        "X_test = wrangle(test_features_path)\n",
        "X_test.head(3)"
      ],
      "execution_count": 17,
      "outputs": [
        {
          "output_type": "execute_result",
          "data": {
            "text/plain": [
              "      id  amount_tsh  gps_height  longitude  latitude  num_private  \\\n",
              "0  53352         NaN         NaN  32.899425 -3.316937          NaN   \n",
              "1  69486         NaN         NaN  33.454783 -8.755486          NaN   \n",
              "2  10214         NaN         NaN  33.831630 -9.238255          NaN   \n",
              "\n",
              "           basin     region  region_code  district_code  ...      payment  \\\n",
              "0  Lake Victoria  Shinyanga           17            3.0  ...    never pay   \n",
              "1     Lake Rukwa      Mbeya           12            2.0  ...  pay monthly   \n",
              "2     Lake Nyasa      Mbeya           12            4.0  ...      unknown   \n",
              "\n",
              "  payment_type water_quality quality_group  quantity        source  \\\n",
              "0    never pay          soft          good    enough  shallow well   \n",
              "1      monthly          soft          good    enough         river   \n",
              "2      unknown          soft          good    enough        spring   \n",
              "\n",
              "    source_type source_class     waterpoint_type waterpoint_type_group  \n",
              "0  shallow well  groundwater           hand pump             hand pump  \n",
              "1    river/lake      surface  communal standpipe    communal standpipe  \n",
              "2        spring  groundwater  communal standpipe    communal standpipe  \n",
              "\n",
              "[3 rows x 30 columns]"
            ],
            "text/html": [
              "\n",
              "  <div id=\"df-dd320ca9-7591-4098-8c74-329d0e819c0f\">\n",
              "    <div class=\"colab-df-container\">\n",
              "      <div>\n",
              "<style scoped>\n",
              "    .dataframe tbody tr th:only-of-type {\n",
              "        vertical-align: middle;\n",
              "    }\n",
              "\n",
              "    .dataframe tbody tr th {\n",
              "        vertical-align: top;\n",
              "    }\n",
              "\n",
              "    .dataframe thead th {\n",
              "        text-align: right;\n",
              "    }\n",
              "</style>\n",
              "<table border=\"1\" class=\"dataframe\">\n",
              "  <thead>\n",
              "    <tr style=\"text-align: right;\">\n",
              "      <th></th>\n",
              "      <th>id</th>\n",
              "      <th>amount_tsh</th>\n",
              "      <th>gps_height</th>\n",
              "      <th>longitude</th>\n",
              "      <th>latitude</th>\n",
              "      <th>num_private</th>\n",
              "      <th>basin</th>\n",
              "      <th>region</th>\n",
              "      <th>region_code</th>\n",
              "      <th>district_code</th>\n",
              "      <th>...</th>\n",
              "      <th>payment</th>\n",
              "      <th>payment_type</th>\n",
              "      <th>water_quality</th>\n",
              "      <th>quality_group</th>\n",
              "      <th>quantity</th>\n",
              "      <th>source</th>\n",
              "      <th>source_type</th>\n",
              "      <th>source_class</th>\n",
              "      <th>waterpoint_type</th>\n",
              "      <th>waterpoint_type_group</th>\n",
              "    </tr>\n",
              "  </thead>\n",
              "  <tbody>\n",
              "    <tr>\n",
              "      <th>0</th>\n",
              "      <td>53352</td>\n",
              "      <td>NaN</td>\n",
              "      <td>NaN</td>\n",
              "      <td>32.899425</td>\n",
              "      <td>-3.316937</td>\n",
              "      <td>NaN</td>\n",
              "      <td>Lake Victoria</td>\n",
              "      <td>Shinyanga</td>\n",
              "      <td>17</td>\n",
              "      <td>3.0</td>\n",
              "      <td>...</td>\n",
              "      <td>never pay</td>\n",
              "      <td>never pay</td>\n",
              "      <td>soft</td>\n",
              "      <td>good</td>\n",
              "      <td>enough</td>\n",
              "      <td>shallow well</td>\n",
              "      <td>shallow well</td>\n",
              "      <td>groundwater</td>\n",
              "      <td>hand pump</td>\n",
              "      <td>hand pump</td>\n",
              "    </tr>\n",
              "    <tr>\n",
              "      <th>1</th>\n",
              "      <td>69486</td>\n",
              "      <td>NaN</td>\n",
              "      <td>NaN</td>\n",
              "      <td>33.454783</td>\n",
              "      <td>-8.755486</td>\n",
              "      <td>NaN</td>\n",
              "      <td>Lake Rukwa</td>\n",
              "      <td>Mbeya</td>\n",
              "      <td>12</td>\n",
              "      <td>2.0</td>\n",
              "      <td>...</td>\n",
              "      <td>pay monthly</td>\n",
              "      <td>monthly</td>\n",
              "      <td>soft</td>\n",
              "      <td>good</td>\n",
              "      <td>enough</td>\n",
              "      <td>river</td>\n",
              "      <td>river/lake</td>\n",
              "      <td>surface</td>\n",
              "      <td>communal standpipe</td>\n",
              "      <td>communal standpipe</td>\n",
              "    </tr>\n",
              "    <tr>\n",
              "      <th>2</th>\n",
              "      <td>10214</td>\n",
              "      <td>NaN</td>\n",
              "      <td>NaN</td>\n",
              "      <td>33.831630</td>\n",
              "      <td>-9.238255</td>\n",
              "      <td>NaN</td>\n",
              "      <td>Lake Nyasa</td>\n",
              "      <td>Mbeya</td>\n",
              "      <td>12</td>\n",
              "      <td>4.0</td>\n",
              "      <td>...</td>\n",
              "      <td>unknown</td>\n",
              "      <td>unknown</td>\n",
              "      <td>soft</td>\n",
              "      <td>good</td>\n",
              "      <td>enough</td>\n",
              "      <td>spring</td>\n",
              "      <td>spring</td>\n",
              "      <td>groundwater</td>\n",
              "      <td>communal standpipe</td>\n",
              "      <td>communal standpipe</td>\n",
              "    </tr>\n",
              "  </tbody>\n",
              "</table>\n",
              "<p>3 rows × 30 columns</p>\n",
              "</div>\n",
              "      <button class=\"colab-df-convert\" onclick=\"convertToInteractive('df-dd320ca9-7591-4098-8c74-329d0e819c0f')\"\n",
              "              title=\"Convert this dataframe to an interactive table.\"\n",
              "              style=\"display:none;\">\n",
              "        \n",
              "  <svg xmlns=\"http://www.w3.org/2000/svg\" height=\"24px\"viewBox=\"0 0 24 24\"\n",
              "       width=\"24px\">\n",
              "    <path d=\"M0 0h24v24H0V0z\" fill=\"none\"/>\n",
              "    <path d=\"M18.56 5.44l.94 2.06.94-2.06 2.06-.94-2.06-.94-.94-2.06-.94 2.06-2.06.94zm-11 1L8.5 8.5l.94-2.06 2.06-.94-2.06-.94L8.5 2.5l-.94 2.06-2.06.94zm10 10l.94 2.06.94-2.06 2.06-.94-2.06-.94-.94-2.06-.94 2.06-2.06.94z\"/><path d=\"M17.41 7.96l-1.37-1.37c-.4-.4-.92-.59-1.43-.59-.52 0-1.04.2-1.43.59L10.3 9.45l-7.72 7.72c-.78.78-.78 2.05 0 2.83L4 21.41c.39.39.9.59 1.41.59.51 0 1.02-.2 1.41-.59l7.78-7.78 2.81-2.81c.8-.78.8-2.07 0-2.86zM5.41 20L4 18.59l7.72-7.72 1.47 1.35L5.41 20z\"/>\n",
              "  </svg>\n",
              "      </button>\n",
              "      \n",
              "  <style>\n",
              "    .colab-df-container {\n",
              "      display:flex;\n",
              "      flex-wrap:wrap;\n",
              "      gap: 12px;\n",
              "    }\n",
              "\n",
              "    .colab-df-convert {\n",
              "      background-color: #E8F0FE;\n",
              "      border: none;\n",
              "      border-radius: 50%;\n",
              "      cursor: pointer;\n",
              "      display: none;\n",
              "      fill: #1967D2;\n",
              "      height: 32px;\n",
              "      padding: 0 0 0 0;\n",
              "      width: 32px;\n",
              "    }\n",
              "\n",
              "    .colab-df-convert:hover {\n",
              "      background-color: #E2EBFA;\n",
              "      box-shadow: 0px 1px 2px rgba(60, 64, 67, 0.3), 0px 1px 3px 1px rgba(60, 64, 67, 0.15);\n",
              "      fill: #174EA6;\n",
              "    }\n",
              "\n",
              "    [theme=dark] .colab-df-convert {\n",
              "      background-color: #3B4455;\n",
              "      fill: #D2E3FC;\n",
              "    }\n",
              "\n",
              "    [theme=dark] .colab-df-convert:hover {\n",
              "      background-color: #434B5C;\n",
              "      box-shadow: 0px 1px 3px 1px rgba(0, 0, 0, 0.15);\n",
              "      filter: drop-shadow(0px 1px 2px rgba(0, 0, 0, 0.3));\n",
              "      fill: #FFFFFF;\n",
              "    }\n",
              "  </style>\n",
              "\n",
              "      <script>\n",
              "        const buttonEl =\n",
              "          document.querySelector('#df-dd320ca9-7591-4098-8c74-329d0e819c0f button.colab-df-convert');\n",
              "        buttonEl.style.display =\n",
              "          google.colab.kernel.accessAllowed ? 'block' : 'none';\n",
              "\n",
              "        async function convertToInteractive(key) {\n",
              "          const element = document.querySelector('#df-dd320ca9-7591-4098-8c74-329d0e819c0f');\n",
              "          const dataTable =\n",
              "            await google.colab.kernel.invokeFunction('convertToInteractive',\n",
              "                                                     [key], {});\n",
              "          if (!dataTable) return;\n",
              "\n",
              "          const docLinkHtml = 'Like what you see? Visit the ' +\n",
              "            '<a target=\"_blank\" href=https://colab.research.google.com/notebooks/data_table.ipynb>data table notebook</a>'\n",
              "            + ' to learn more about interactive tables.';\n",
              "          element.innerHTML = '';\n",
              "          dataTable['output_type'] = 'display_data';\n",
              "          await google.colab.output.renderOutput(dataTable, element);\n",
              "          const docLink = document.createElement('div');\n",
              "          docLink.innerHTML = docLinkHtml;\n",
              "          element.appendChild(docLink);\n",
              "        }\n",
              "      </script>\n",
              "    </div>\n",
              "  </div>\n",
              "  "
            ]
          },
          "metadata": {},
          "execution_count": 17
        }
      ]
    },
    {
      "cell_type": "markdown",
      "metadata": {
        "id": "6468RlEN7XIh"
      },
      "source": [
        "# II. Split Data\n",
        "\n",
        "**Task 3:** Split your DataFrame `df` into a feature matrix `X` and the target vector `y`. You want to predict `'status_group'`."
      ]
    },
    {
      "cell_type": "code",
      "metadata": {
        "id": "bUKkLI5C7XIh"
      },
      "source": [
        "target = 'status_group'\n",
        "y = df[target]\n",
        "X = df.drop(target,axis=1)"
      ],
      "execution_count": 18,
      "outputs": []
    },
    {
      "cell_type": "markdown",
      "metadata": {
        "id": "XnTJe3Ul7XIi"
      },
      "source": [
        "**Task 4:** Using a randomized split, divide `X` and `y` into a training set (`X_train`, `y_train`) and a validation set (`X_val`, `y_val`)."
      ]
    },
    {
      "cell_type": "code",
      "metadata": {
        "id": "1V6d31vc7XIi",
        "colab": {
          "base_uri": "https://localhost:8080/"
        },
        "outputId": "3b8db503-19d6-4358-9a61-66c6c6c66cc9"
      },
      "source": [
        "from sklearn.model_selection import train_test_split\n",
        "# X_train, X_val, y_train, y_val = ..., ..., ..., ...\n",
        "# X_train, X_val = train_test_split(X, train_size=0.80, test_size=0.20, stratify=train['status_group'], random_state=42)\n",
        "X_train, X_val, y_train, y_val = train_test_split(X, y, test_size=0.2, stratify=y)\n",
        "print(pd.Series(y_train).value_counts())\n",
        "print(pd.Series(y_val).value_counts())"
      ],
      "execution_count": 19,
      "outputs": [
        {
          "output_type": "stream",
          "name": "stdout",
          "text": [
            "functional                 20646\n",
            "non functional             14607\n",
            "functional needs repair     2763\n",
            "Name: status_group, dtype: int64\n",
            "functional                 5161\n",
            "non functional             3652\n",
            "functional needs repair     691\n",
            "Name: status_group, dtype: int64\n"
          ]
        }
      ]
    },
    {
      "cell_type": "code",
      "source": [
        "# print(pd.Series(X_train).value_counts())\n",
        "# print(pd.Series(X_val).value_counts())\n",
        "if X_train.empty:\n",
        "    print(\"DataFrame is empty\")\n",
        "else:\n",
        "    print(\"DataFrame is not empty\")"
      ],
      "metadata": {
        "colab": {
          "base_uri": "https://localhost:8080/"
        },
        "id": "i-ec2Hits57i",
        "outputId": "b39974dd-851f-4a20-9256-c588b517fd1d"
      },
      "execution_count": 57,
      "outputs": [
        {
          "output_type": "stream",
          "name": "stdout",
          "text": [
            "DataFrame is not empty\n"
          ]
        }
      ]
    },
    {
      "cell_type": "code",
      "source": [
        "print('shape of x_train, x_val, y_train, y_val', X_train.shape, X_val.shape, y_train.shape, y_val.shape)"
      ],
      "metadata": {
        "colab": {
          "base_uri": "https://localhost:8080/"
        },
        "id": "50c9aPWrt3Hp",
        "outputId": "0d0b6171-a19f-44c8-cbf9-4590749eb602"
      },
      "execution_count": 20,
      "outputs": [
        {
          "output_type": "stream",
          "name": "stdout",
          "text": [
            "shape of x_train, x_val, y_train, y_val (38016, 30) (9504, 30) (38016,) (9504,)\n"
          ]
        }
      ]
    },
    {
      "cell_type": "markdown",
      "metadata": {
        "id": "5nMstK357XIi"
      },
      "source": [
        "# III. Establish Baseline\n",
        "\n",
        "**Task 5:** Since this is a **classification** problem, you should establish a baseline accuracy score. Figure out what is the majority class in `y_train` and what percentage of your training observations it represents."
      ]
    },
    {
      "cell_type": "code",
      "source": [
        "X_train.isnull().sum().sum()"
      ],
      "metadata": {
        "colab": {
          "base_uri": "https://localhost:8080/"
        },
        "id": "GabRQW5NnMQy",
        "outputId": "c30b1921-68a3-4192-fb01-48a7d5d45b04"
      },
      "execution_count": 21,
      "outputs": [
        {
          "output_type": "execute_result",
          "data": {
            "text/plain": [
              "113166"
            ]
          },
          "metadata": {},
          "execution_count": 21
        }
      ]
    },
    {
      "cell_type": "code",
      "metadata": {
        "id": "RvhzZGZR7XIi",
        "colab": {
          "base_uri": "https://localhost:8080/"
        },
        "outputId": "29dc26ff-01ec-482c-f826-3dcc1b0d91cc"
      },
      "source": [
        "from sklearn.metrics import accuracy_score\n",
        "majority_class =  y_train.mode()[0]\n",
        "y_pred = [majority_class] * len(y_train)\n",
        "baseline_acc =  accuracy_score(y_train, y_pred)\n",
        "print('Baseline Accuracy Score:', baseline_acc)"
      ],
      "execution_count": 22,
      "outputs": [
        {
          "output_type": "stream",
          "name": "stdout",
          "text": [
            "Baseline Accuracy Score: 0.5430871212121212\n"
          ]
        }
      ]
    },
    {
      "cell_type": "markdown",
      "metadata": {
        "id": "Djjk3dff7XIj"
      },
      "source": [
        "# IV. Build Model\n",
        "\n",
        "**Task 6:** Build a `Pipeline` named `model_dt`, and fit it to your training data. Your `Pipeline` should include:\n",
        "\n",
        "- an `OrdinalEncoder` transformer for categorical features.\n",
        "- a `SimpleImputer` transformer fot missing values.\n",
        "- a `DecisionTreeClassifier` predictor.\n",
        "\n",
        "**Note:** Don't forget to set the `random_state` parameter for your `DecisionTreeClassifier`."
      ]
    },
    {
      "cell_type": "code",
      "source": [
        "X_train.shape"
      ],
      "metadata": {
        "colab": {
          "base_uri": "https://localhost:8080/"
        },
        "id": "NC_SvK0vU2Vc",
        "outputId": "a3190f4b-ddd9-4fb6-868d-efe2140b53f4"
      },
      "execution_count": 60,
      "outputs": [
        {
          "output_type": "execute_result",
          "data": {
            "text/plain": [
              "(38016, 30)"
            ]
          },
          "metadata": {},
          "execution_count": 60
        }
      ]
    },
    {
      "cell_type": "code",
      "source": [
        "y_train.shape"
      ],
      "metadata": {
        "colab": {
          "base_uri": "https://localhost:8080/"
        },
        "id": "cGWbb35zU83C",
        "outputId": "6d0047a7-8c0b-430f-f898-67bcfdaa4360"
      },
      "execution_count": 61,
      "outputs": [
        {
          "output_type": "execute_result",
          "data": {
            "text/plain": [
              "(38016,)"
            ]
          },
          "metadata": {},
          "execution_count": 61
        }
      ]
    },
    {
      "cell_type": "code",
      "metadata": {
        "id": "2lxlE8_I7XIj",
        "colab": {
          "base_uri": "https://localhost:8080/",
          "height": 193
        },
        "outputId": "2aa53abe-5528-414a-8d69-220d078c422f"
      },
      "source": [
        "import category_encoders as ce\n",
        "from sklearn.impute import SimpleImputer\n",
        "from sklearn.tree import DecisionTreeClassifier\n",
        "from sklearn.pipeline import make_pipeline\n",
        "from sklearn.preprocessing import StandardScaler\n",
        "\n",
        "model_dt = make_pipeline(\n",
        "    ce.OneHotEncoder(use_cat_names=True),\n",
        "    SimpleImputer(strategy='mean'),\n",
        "    StandardScaler(),\n",
        "    DecisionTreeClassifier(min_samples_leaf=30, random_state=30)\n",
        ")\n",
        "model_dt.fit(X_train, y_train)\n",
        "\n",
        "# print('Train Accuracy', model_dt.score(X_train, y_train))\n",
        "# print('Val Accuracy', model_dt.score(X_val, y_val))\n"
      ],
      "execution_count": 23,
      "outputs": [
        {
          "output_type": "execute_result",
          "data": {
            "text/plain": [
              "Pipeline(steps=[('onehotencoder',\n",
              "                 OneHotEncoder(cols=['basin', 'region', 'public_meeting',\n",
              "                                     'scheme_management', 'permit',\n",
              "                                     'extraction_type', 'extraction_type_group',\n",
              "                                     'extraction_type_class', 'management',\n",
              "                                     'management_group', 'payment',\n",
              "                                     'payment_type', 'water_quality',\n",
              "                                     'quality_group', 'quantity', 'source',\n",
              "                                     'source_type', 'source_class',\n",
              "                                     'waterpoint_type',\n",
              "                                     'waterpoint_type_group'],\n",
              "                               use_cat_names=True)),\n",
              "                ('simpleimputer', SimpleImputer()),\n",
              "                ('standardscaler', StandardScaler()),\n",
              "                ('decisiontreeclassifier',\n",
              "                 DecisionTreeClassifier(min_samples_leaf=30, random_state=30))])"
            ],
            "text/html": [
              "<style>#sk-container-id-1 {color: black;background-color: white;}#sk-container-id-1 pre{padding: 0;}#sk-container-id-1 div.sk-toggleable {background-color: white;}#sk-container-id-1 label.sk-toggleable__label {cursor: pointer;display: block;width: 100%;margin-bottom: 0;padding: 0.3em;box-sizing: border-box;text-align: center;}#sk-container-id-1 label.sk-toggleable__label-arrow:before {content: \"▸\";float: left;margin-right: 0.25em;color: #696969;}#sk-container-id-1 label.sk-toggleable__label-arrow:hover:before {color: black;}#sk-container-id-1 div.sk-estimator:hover label.sk-toggleable__label-arrow:before {color: black;}#sk-container-id-1 div.sk-toggleable__content {max-height: 0;max-width: 0;overflow: hidden;text-align: left;background-color: #f0f8ff;}#sk-container-id-1 div.sk-toggleable__content pre {margin: 0.2em;color: black;border-radius: 0.25em;background-color: #f0f8ff;}#sk-container-id-1 input.sk-toggleable__control:checked~div.sk-toggleable__content {max-height: 200px;max-width: 100%;overflow: auto;}#sk-container-id-1 input.sk-toggleable__control:checked~label.sk-toggleable__label-arrow:before {content: \"▾\";}#sk-container-id-1 div.sk-estimator input.sk-toggleable__control:checked~label.sk-toggleable__label {background-color: #d4ebff;}#sk-container-id-1 div.sk-label input.sk-toggleable__control:checked~label.sk-toggleable__label {background-color: #d4ebff;}#sk-container-id-1 input.sk-hidden--visually {border: 0;clip: rect(1px 1px 1px 1px);clip: rect(1px, 1px, 1px, 1px);height: 1px;margin: -1px;overflow: hidden;padding: 0;position: absolute;width: 1px;}#sk-container-id-1 div.sk-estimator {font-family: monospace;background-color: #f0f8ff;border: 1px dotted black;border-radius: 0.25em;box-sizing: border-box;margin-bottom: 0.5em;}#sk-container-id-1 div.sk-estimator:hover {background-color: #d4ebff;}#sk-container-id-1 div.sk-parallel-item::after {content: \"\";width: 100%;border-bottom: 1px solid gray;flex-grow: 1;}#sk-container-id-1 div.sk-label:hover label.sk-toggleable__label {background-color: #d4ebff;}#sk-container-id-1 div.sk-serial::before {content: \"\";position: absolute;border-left: 1px solid gray;box-sizing: border-box;top: 0;bottom: 0;left: 50%;z-index: 0;}#sk-container-id-1 div.sk-serial {display: flex;flex-direction: column;align-items: center;background-color: white;padding-right: 0.2em;padding-left: 0.2em;position: relative;}#sk-container-id-1 div.sk-item {position: relative;z-index: 1;}#sk-container-id-1 div.sk-parallel {display: flex;align-items: stretch;justify-content: center;background-color: white;position: relative;}#sk-container-id-1 div.sk-item::before, #sk-container-id-1 div.sk-parallel-item::before {content: \"\";position: absolute;border-left: 1px solid gray;box-sizing: border-box;top: 0;bottom: 0;left: 50%;z-index: -1;}#sk-container-id-1 div.sk-parallel-item {display: flex;flex-direction: column;z-index: 1;position: relative;background-color: white;}#sk-container-id-1 div.sk-parallel-item:first-child::after {align-self: flex-end;width: 50%;}#sk-container-id-1 div.sk-parallel-item:last-child::after {align-self: flex-start;width: 50%;}#sk-container-id-1 div.sk-parallel-item:only-child::after {width: 0;}#sk-container-id-1 div.sk-dashed-wrapped {border: 1px dashed gray;margin: 0 0.4em 0.5em 0.4em;box-sizing: border-box;padding-bottom: 0.4em;background-color: white;}#sk-container-id-1 div.sk-label label {font-family: monospace;font-weight: bold;display: inline-block;line-height: 1.2em;}#sk-container-id-1 div.sk-label-container {text-align: center;}#sk-container-id-1 div.sk-container {/* jupyter's `normalize.less` sets `[hidden] { display: none; }` but bootstrap.min.css set `[hidden] { display: none !important; }` so we also need the `!important` here to be able to override the default hidden behavior on the sphinx rendered scikit-learn.org. See: https://github.com/scikit-learn/scikit-learn/issues/21755 */display: inline-block !important;position: relative;}#sk-container-id-1 div.sk-text-repr-fallback {display: none;}</style><div id=\"sk-container-id-1\" class=\"sk-top-container\"><div class=\"sk-text-repr-fallback\"><pre>Pipeline(steps=[(&#x27;onehotencoder&#x27;,\n",
              "                 OneHotEncoder(cols=[&#x27;basin&#x27;, &#x27;region&#x27;, &#x27;public_meeting&#x27;,\n",
              "                                     &#x27;scheme_management&#x27;, &#x27;permit&#x27;,\n",
              "                                     &#x27;extraction_type&#x27;, &#x27;extraction_type_group&#x27;,\n",
              "                                     &#x27;extraction_type_class&#x27;, &#x27;management&#x27;,\n",
              "                                     &#x27;management_group&#x27;, &#x27;payment&#x27;,\n",
              "                                     &#x27;payment_type&#x27;, &#x27;water_quality&#x27;,\n",
              "                                     &#x27;quality_group&#x27;, &#x27;quantity&#x27;, &#x27;source&#x27;,\n",
              "                                     &#x27;source_type&#x27;, &#x27;source_class&#x27;,\n",
              "                                     &#x27;waterpoint_type&#x27;,\n",
              "                                     &#x27;waterpoint_type_group&#x27;],\n",
              "                               use_cat_names=True)),\n",
              "                (&#x27;simpleimputer&#x27;, SimpleImputer()),\n",
              "                (&#x27;standardscaler&#x27;, StandardScaler()),\n",
              "                (&#x27;decisiontreeclassifier&#x27;,\n",
              "                 DecisionTreeClassifier(min_samples_leaf=30, random_state=30))])</pre><b>In a Jupyter environment, please rerun this cell to show the HTML representation or trust the notebook. <br />On GitHub, the HTML representation is unable to render, please try loading this page with nbviewer.org.</b></div><div class=\"sk-container\" hidden><div class=\"sk-item sk-dashed-wrapped\"><div class=\"sk-label-container\"><div class=\"sk-label sk-toggleable\"><input class=\"sk-toggleable__control sk-hidden--visually\" id=\"sk-estimator-id-1\" type=\"checkbox\" ><label for=\"sk-estimator-id-1\" class=\"sk-toggleable__label sk-toggleable__label-arrow\">Pipeline</label><div class=\"sk-toggleable__content\"><pre>Pipeline(steps=[(&#x27;onehotencoder&#x27;,\n",
              "                 OneHotEncoder(cols=[&#x27;basin&#x27;, &#x27;region&#x27;, &#x27;public_meeting&#x27;,\n",
              "                                     &#x27;scheme_management&#x27;, &#x27;permit&#x27;,\n",
              "                                     &#x27;extraction_type&#x27;, &#x27;extraction_type_group&#x27;,\n",
              "                                     &#x27;extraction_type_class&#x27;, &#x27;management&#x27;,\n",
              "                                     &#x27;management_group&#x27;, &#x27;payment&#x27;,\n",
              "                                     &#x27;payment_type&#x27;, &#x27;water_quality&#x27;,\n",
              "                                     &#x27;quality_group&#x27;, &#x27;quantity&#x27;, &#x27;source&#x27;,\n",
              "                                     &#x27;source_type&#x27;, &#x27;source_class&#x27;,\n",
              "                                     &#x27;waterpoint_type&#x27;,\n",
              "                                     &#x27;waterpoint_type_group&#x27;],\n",
              "                               use_cat_names=True)),\n",
              "                (&#x27;simpleimputer&#x27;, SimpleImputer()),\n",
              "                (&#x27;standardscaler&#x27;, StandardScaler()),\n",
              "                (&#x27;decisiontreeclassifier&#x27;,\n",
              "                 DecisionTreeClassifier(min_samples_leaf=30, random_state=30))])</pre></div></div></div><div class=\"sk-serial\"><div class=\"sk-item\"><div class=\"sk-estimator sk-toggleable\"><input class=\"sk-toggleable__control sk-hidden--visually\" id=\"sk-estimator-id-2\" type=\"checkbox\" ><label for=\"sk-estimator-id-2\" class=\"sk-toggleable__label sk-toggleable__label-arrow\">OneHotEncoder</label><div class=\"sk-toggleable__content\"><pre>OneHotEncoder(cols=[&#x27;basin&#x27;, &#x27;region&#x27;, &#x27;public_meeting&#x27;, &#x27;scheme_management&#x27;,\n",
              "                    &#x27;permit&#x27;, &#x27;extraction_type&#x27;, &#x27;extraction_type_group&#x27;,\n",
              "                    &#x27;extraction_type_class&#x27;, &#x27;management&#x27;, &#x27;management_group&#x27;,\n",
              "                    &#x27;payment&#x27;, &#x27;payment_type&#x27;, &#x27;water_quality&#x27;, &#x27;quality_group&#x27;,\n",
              "                    &#x27;quantity&#x27;, &#x27;source&#x27;, &#x27;source_type&#x27;, &#x27;source_class&#x27;,\n",
              "                    &#x27;waterpoint_type&#x27;, &#x27;waterpoint_type_group&#x27;],\n",
              "              use_cat_names=True)</pre></div></div></div><div class=\"sk-item\"><div class=\"sk-estimator sk-toggleable\"><input class=\"sk-toggleable__control sk-hidden--visually\" id=\"sk-estimator-id-3\" type=\"checkbox\" ><label for=\"sk-estimator-id-3\" class=\"sk-toggleable__label sk-toggleable__label-arrow\">SimpleImputer</label><div class=\"sk-toggleable__content\"><pre>SimpleImputer()</pre></div></div></div><div class=\"sk-item\"><div class=\"sk-estimator sk-toggleable\"><input class=\"sk-toggleable__control sk-hidden--visually\" id=\"sk-estimator-id-4\" type=\"checkbox\" ><label for=\"sk-estimator-id-4\" class=\"sk-toggleable__label sk-toggleable__label-arrow\">StandardScaler</label><div class=\"sk-toggleable__content\"><pre>StandardScaler()</pre></div></div></div><div class=\"sk-item\"><div class=\"sk-estimator sk-toggleable\"><input class=\"sk-toggleable__control sk-hidden--visually\" id=\"sk-estimator-id-5\" type=\"checkbox\" ><label for=\"sk-estimator-id-5\" class=\"sk-toggleable__label sk-toggleable__label-arrow\">DecisionTreeClassifier</label><div class=\"sk-toggleable__content\"><pre>DecisionTreeClassifier(min_samples_leaf=30, random_state=30)</pre></div></div></div></div></div></div></div>"
            ]
          },
          "metadata": {},
          "execution_count": 23
        }
      ]
    },
    {
      "cell_type": "markdown",
      "metadata": {
        "id": "KGJZT7uG7XIk"
      },
      "source": [
        "# V. Check Metrics\n",
        "\n",
        "**Task 7:** Calculate the training and validation accuracy scores for `model_dt`."
      ]
    },
    {
      "cell_type": "code",
      "metadata": {
        "id": "XnPy5OPI7XIk",
        "colab": {
          "base_uri": "https://localhost:8080/"
        },
        "outputId": "ef4389b0-a8f3-4e8f-e3de-ee318bfee5bb"
      },
      "source": [
        "training_acc = model_dt.score(X_train, y_train)\n",
        "val_acc = model_dt.score(X_val, y_val)\n",
        "\n",
        "print('Training Accuracy Score:', training_acc)\n",
        "print('Validation Accuracy Score:', val_acc)"
      ],
      "execution_count": 24,
      "outputs": [
        {
          "output_type": "stream",
          "name": "stdout",
          "text": [
            "Training Accuracy Score: 0.7896675084175084\n",
            "Validation Accuracy Score: 0.757996632996633\n"
          ]
        }
      ]
    },
    {
      "cell_type": "markdown",
      "metadata": {
        "id": "A6r1zyiz7XIk"
      },
      "source": [
        "# VI. Tune Model\n",
        "\n",
        "**Task 8:** Is there a large difference between your training and validation accuracy? If so, experiment with different setting for `max_depth` in your `DecisionTreeClassifier` to reduce the amount of overfitting in your model."
      ]
    },
    {
      "cell_type": "code",
      "metadata": {
        "id": "IMBamA7F7XIk"
      },
      "source": [
        "# Use this cell to experiment and then change\n",
        "# your model hyperparameters in Task 6\n",
        "\n",
        "# model_dt = make_pipeline(\n",
        "#     ce.OneHotEncoder(use_cat_names=True),\n",
        "#     SimpleImputer(strategy='mean'),\n",
        "#     DecisionTreeClassifier(min_samples_leaf=30, random_state=30)\n",
        "# )\n",
        "# model_dt.fit(X_train, y_train)\n"
      ],
      "execution_count": 88,
      "outputs": []
    },
    {
      "cell_type": "code",
      "source": [
        "# training_acc = model_dt.score(X_train, y_train)\n",
        "# val_acc = model_dt.score(X_val, y_val)\n",
        "\n",
        "# print('Training Accuracy Score:', training_acc)\n",
        "# print('Validation Accuracy Score:', val_acc)\n"
      ],
      "metadata": {
        "id": "fu9N5EDVYtCU"
      },
      "execution_count": 89,
      "outputs": []
    },
    {
      "cell_type": "markdown",
      "metadata": {
        "id": "9-nEtOzc7XIk"
      },
      "source": [
        "# VII. Communicate Results\n",
        "\n",
        "**Task 9 `stretch goal`:** Create a horizontal barchart that shows the the 10 most important features for model_dt, sorted by value.\n",
        "\n",
        "**Note:** [`DecisionTreeClassifier.feature_importances_`](https://scikit-learn.org/stable/modules/generated/sklearn.tree.DecisionTreeClassifier.html?highlight=decisiontreecla#sklearn.tree.DecisionTreeClassifier.feature_importances_) returns values that are different from [`LogisticRegression.coef_`](https://scikit-learn.org/stable/modules/generated/sklearn.linear_model.LogisticRegression.html). All the values will be positive, and they will sum to `1`."
      ]
    },
    {
      "cell_type": "code",
      "source": [
        "# model_dt.named_steps['decisiontreeclassifier'].feature_importances_\n",
        "y_pred = model_dt.predict(X_test)\n",
        "y_pred"
      ],
      "metadata": {
        "colab": {
          "base_uri": "https://localhost:8080/"
        },
        "id": "_R7OI6_f7XTy",
        "outputId": "5a422015-7e21-4316-9841-bd2e4e90f3e3"
      },
      "execution_count": 25,
      "outputs": [
        {
          "output_type": "execute_result",
          "data": {
            "text/plain": [
              "array(['non functional', 'functional', 'functional', ..., 'functional',\n",
              "       'functional', 'functional'], dtype=object)"
            ]
          },
          "metadata": {},
          "execution_count": 25
        }
      ]
    },
    {
      "cell_type": "code",
      "source": [
        "import numpy as np\n",
        "status_array = y_pred\n",
        "status_mapping = {\n",
        "    \"functional\": 0,\n",
        "    \"functional needs repair\": 1,\n",
        "    \"non functional\": 2\n",
        "}\n",
        "replaced_array = np.where(np.isin(status_array, list(status_mapping.keys())), status_array, -1)\n",
        "replaced_array = np.vectorize(status_mapping.get)(replaced_array)\n",
        "print(replaced_array)"
      ],
      "metadata": {
        "colab": {
          "base_uri": "https://localhost:8080/"
        },
        "id": "E8VfU5idQDGs",
        "outputId": "af3dc04f-0193-4bb5-89d0-489cf1a923c2"
      },
      "execution_count": 27,
      "outputs": [
        {
          "output_type": "stream",
          "name": "stdout",
          "text": [
            "[2 0 0 ... 0 0 0]\n"
          ]
        }
      ]
    },
    {
      "cell_type": "code",
      "source": [
        "data = {'S.No.': range(1, len(replaced_array) + 1), 'status_group': replaced_array}\n",
        "data_submit = pd.DataFrame(data)\n",
        "# print(data_submit.head())\n",
        "data_submit.to_csv('tanzania_sample_solution.csv',index=False)"
      ],
      "metadata": {
        "id": "tSnPz0k-QV6j"
      },
      "execution_count": 28,
      "outputs": []
    },
    {
      "cell_type": "code",
      "metadata": {
        "id": "j9sbtRpe7XIl",
        "colab": {
          "base_uri": "https://localhost:8080/",
          "height": 448
        },
        "outputId": "b86b5193-22c6-4cc6-ad70-636acad70812"
      },
      "source": [
        "import matplotlib.pyplot as plt\n",
        "%matplotlib inline\n",
        "\n",
        "feature_importances = pd.Series(model_dt.named_steps['decisiontreeclassifier'].feature_importances_[:30], X_train.columns)\n",
        "feature_importances.sort_values().plot.barh()"
      ],
      "execution_count": 26,
      "outputs": [
        {
          "output_type": "execute_result",
          "data": {
            "text/plain": [
              "<Axes: >"
            ]
          },
          "metadata": {},
          "execution_count": 26
        },
        {
          "output_type": "display_data",
          "data": {
            "text/plain": [
              "<Figure size 640x480 with 1 Axes>"
            ],
            "image/png": "[encoded data removed]"
          },
          "metadata": {}
        }
      ]
    },
    {
      "cell_type": "markdown",
      "source": [
        "## Kaggle Submission Screenshot\n",
        "\n",
        "![image.png](data:image/png;base64,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)"
      ],
      "metadata": {
        "id": "WZvUSAKRRM2Y"
      }
    }
  ]
}